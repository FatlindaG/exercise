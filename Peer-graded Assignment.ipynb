{
  "metadata": {
    "kernelspec": {
      "name": "python",
      "display_name": "Pyolite",
      "language": "python"
    },
    "language_info": {
      "codemirror_mode": {
        "name": "ipython",
        "version": 3
      },
      "file_extension": ".py",
      "mimetype": "text/x-python",
      "name": "python",
      "nbconvert_exporter": "python",
      "pygments_lexer": "ipython3",
      "version": "3.7.6"
    }
  },
  "nbformat_minor": 4,
  "nbformat": 4,
  "cells": [
    {
      "cell_type": "markdown",
      "source": "<center>\n    <img src=\"https://cf-courses-data.s3.us.cloud-object-storage.appdomain.cloud/IBMDeveloperSkillsNetwork-DS0105EN-SkillsNetwork/labs/Module2/images/SN_web_lightmode.png\" width=\"300\" alt=\"cognitiveclass.ai logo\"  />\n</center>\n",
      "metadata": {}
    },
    {
      "cell_type": "markdown",
      "source": "#### Add your code below following the instructions given in the course\n",
      "metadata": {}
    },
    {
      "cell_type": "markdown",
      "source": "# My Jupyter Notebook on IBM Watson Studio \n",
      "metadata": {}
    },
    {
      "cell_type": "markdown",
      "source": "**FATLINDA GASHI**",
      "metadata": {}
    },
    {
      "cell_type": "markdown",
      "source": "Data Analyst",
      "metadata": {}
    },
    {
      "cell_type": "markdown",
      "source": "*I am interested in Data Science bacause in the today world the data driven decision play a very crucial role*",
      "metadata": {}
    },
    {
      "cell_type": "markdown",
      "source": "### The following code is a simple math equation, it calculates the squared of the number five and then adding the number 7",
      "metadata": {}
    },
    {
      "cell_type": "code",
      "source": "print(5**2+7)",
      "metadata": {
        "tags": [],
        "trusted": true
      },
      "execution_count": 4,
      "outputs": [
        {
          "name": "stdout",
          "text": "32\n",
          "output_type": "stream"
        }
      ]
    },
    {
      "cell_type": "markdown",
      "source": "1. This is horizontal rule\n---\n2. This is the table:\n| Number | Name |\n| ------ | ------ |\n| 1 | Fatlinda Gashi |\n| 2 | Fatlinda Gashi |\n\n3. Hyperlink: \n<a href= https://https://labs.cognitiveclass.ai/v2/tools/jupyterlite?ulid=ulid-78f7d13eb00348bdc5cc9142d4ba1b78d31a33ca",
      "metadata": {}
    },
    {
      "cell_type": "code",
      "source": "",
      "metadata": {},
      "execution_count": null,
      "outputs": []
    }
  ]
}